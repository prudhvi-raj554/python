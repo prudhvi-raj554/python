{
 "cells": [
  {
   "cell_type": "code",
   "execution_count": null,
   "metadata": {},
   "outputs": [],
   "source": [
    "pwd"
   ]
  },
  {
   "cell_type": "markdown",
   "metadata": {},
   "source": [
    "### programming in python with strings\n",
    "- strings\n",
    "- strings slicing\n",
    "- fundamental programs and examples with strings"
   ]
  },
  {
   "cell_type": "code",
   "execution_count": null,
   "metadata": {},
   "outputs": [],
   "source": [
    "s1='python'\n",
    "s2='program'\n",
    "s3='A'\n",
    "print(s1)\n",
    "print(s2)\n",
    "print(s3)\n",
    "print(type(s1))\n",
    "print(type(s2))\n",
    "print(type(s3))"
   ]
  },
  {
   "cell_type": "markdown",
   "metadata": {},
   "source": [
    "### String Slicing"
   ]
  },
  {
   "cell_type": "code",
   "execution_count": null,
   "metadata": {},
   "outputs": [],
   "source": [
    "s1='python'\n",
    "print(s1[0])\n",
    "print(len(s1)-1)\n",
    "print(s1[-1])\n",
    "print(s1[-2])\n",
    "print(s1[0:2])\n",
    "print(s1[-2:])\n",
    "print(s1[3:])\n",
    "print(s1[2:5])\n",
    "print(s1[1:-1])"
   ]
  },
  {
   "cell_type": "code",
   "execution_count": null,
   "metadata": {},
   "outputs": [],
   "source": [
    "s1[-1::-1] #Reversew the string"
   ]
  },
  {
   "cell_type": "code",
   "execution_count": null,
   "metadata": {},
   "outputs": [],
   "source": [
    "# reverse the string\n",
    "def reverseStr(s):\n",
    "    return s[-1::-1]\n",
    "reverseStr('python')"
   ]
  },
  {
   "cell_type": "code",
   "execution_count": null,
   "metadata": {},
   "outputs": [],
   "source": [
    "# to check the given string is palindrome or not a palindrome\n",
    "def isPalindrome(s):\n",
    "    if s==s[-1::-1]:\n",
    "        return True\n",
    "    return False\n",
    "print(isPalindrome('python'))\n",
    "print(isPalindrome('ganag'))"
   ]
  },
  {
   "cell_type": "code",
   "execution_count": 6,
   "metadata": {},
   "outputs": [
    {
     "name": "stdout",
     "output_type": "stream",
     "text": [
      "P T H "
     ]
    }
   ],
   "source": [
    "# Function to print upper case characters\n",
    "# ex:- python ---P T\n",
    "\n",
    "#ASCII\n",
    "#A - Z : 65-90\n",
    "#a -Z :97 -122\n",
    "#0 -9 :48 -57\n",
    "#SPACE:32\n",
    "\n",
    "def printUpper(s):\n",
    "    for i in range(len(s)):\n",
    "        if ord(s[i])>=65 and ord(s[i]) <=90:\n",
    "            print(s[i],end=' ')\n",
    "    return\n",
    "printUpper('PyTHon') "
   ]
  },
  {
   "cell_type": "code",
   "execution_count": 27,
   "metadata": {},
   "outputs": [
    {
     "data": {
      "text/plain": [
       "'samecount'"
      ]
     },
     "execution_count": 27,
     "metadata": {},
     "output_type": "execute_result"
    }
   ],
   "source": [
    "# function to return the output as \"samecount\" or \"programming\"\n",
    "#samecount ---lower and upper chars have same count\n",
    "#programming --count of lower and upper case is not same\n",
    "\n",
    "\n",
    "# examole #1: python --3 PTO\n",
    "#                   ---3 yhn\n",
    "# output: samecount\n",
    "\n",
    "#example #2:python --2 PN\n",
    "#                  --4 ytho\n",
    "#output:programming\n",
    "\n",
    "\n",
    "def findcharCount(s):\n",
    "    cntUpper =0\n",
    "    cntLower =0\n",
    "    for i in range(len(s)):\n",
    "        if ord(s[i])>=65 and ord(s[i]) <=90:\n",
    "            cntUpper+= 1 \n",
    "        elif ord(s[i])>=97 and ord(s[i]) <=122:\n",
    "                cntLower+=1\n",
    "    if cntLower ==cntUpper:\n",
    "        return \"samecount\"\n",
    "    return \"programming\"\n",
    "findcharCount('PyThoN')   "
   ]
  },
  {
   "cell_type": "code",
   "execution_count": 32,
   "metadata": {},
   "outputs": [
    {
     "name": "stdout",
     "output_type": "stream",
     "text": [
      "1 9 9 8 "
     ]
    }
   ],
   "source": [
    "#function to extract the digits from the string\n",
    "#eample #1:\n",
    "\n",
    "#input :appli18cation89\n",
    "#output: 1889\n",
    "\n",
    "def findDigits(f):\n",
    "    for i in range(len(f)):\n",
    "        if ord(f[i])>=48 and ord(f[i])<=57:\n",
    "            print(f[i],end=' ')\n",
    "    return\n",
    "findDigits('Apli19cation98')"
   ]
  },
  {
   "cell_type": "code",
   "execution_count": 39,
   "metadata": {},
   "outputs": [
    {
     "data": {
      "text/plain": [
       "26"
      ]
     },
     "execution_count": 39,
     "metadata": {},
     "output_type": "execute_result"
    }
   ],
   "source": [
    "#function to add the digits of the string \n",
    "#example #1:\n",
    "#input :appli18cation89\n",
    "#output: 26 (1+8+8+9)\n",
    "\n",
    "def addDigit(a):\n",
    "    sum=0\n",
    "    for i in range(len(a)):\n",
    "        if ord(a[i])>=48 and ord(a[i])<=57:\n",
    "            sum=sum+ (ord(a[i])-48)\n",
    "    return sum\n",
    "addDigit('appli18cation89')"
   ]
  },
  {
   "cell_type": "code",
   "execution_count": 42,
   "metadata": {},
   "outputs": [
    {
     "name": "stdout",
     "output_type": "stream",
     "text": [
      "M A D E "
     ]
    }
   ],
   "source": [
    "#function  to  2nd word in upper case\n",
    "#example #1:\n",
    "#input :python made easy\n",
    "# output :MADE\n",
    "\n",
    "def wordUpper(w):\n",
    "    cntspace=0\n",
    "    for i in range(len(w)):\n",
    "        if (ord(w[i])==32):\n",
    "            cntspace+=1\n",
    "        if cntspace ==1:\n",
    "            if ord(w[i])>=65 and ord(w[i])<=90:\n",
    "                print(w[i],end=' ')\n",
    "            elif ord(w[i])>=97 and ord(w[i])<=122:\n",
    "                print(chr(ord(w[i])-32),end =' ') \n",
    "        if cntspace ==2:\n",
    "            break\n",
    "    return\n",
    "wordUpper('python made easy')"
   ]
  },
  {
   "cell_type": "markdown",
   "metadata": {},
   "source": [
    "### List\n",
    "- one of the Data structure in python\n",
    "- data structure means to score, sort and search options\n",
    "- it's one common data structure in python,the items of list separated by comma and enclosed in square btrackets []\n",
    "- example:\n",
    "    - list1=[1,16,9,2]\n",
    "    - list2=[\"gitam\".1,2,1.89,\"vizg\"]"
   ]
  },
  {
   "cell_type": "code",
   "execution_count": 45,
   "metadata": {},
   "outputs": [
    {
     "name": "stdout",
     "output_type": "stream",
     "text": [
      "[1, 8, 16, 9, 2]\n",
      "1\n",
      "[1, 8, 16]\n"
     ]
    }
   ],
   "source": [
    "li=[1,8,16,9,2]\n",
    "print(li)\n",
    "print(li[0])\n",
    "print(li[:3])"
   ]
  },
  {
   "cell_type": "code",
   "execution_count": 47,
   "metadata": {},
   "outputs": [
    {
     "name": "stdout",
     "output_type": "stream",
     "text": [
      "['gitam', 1582, 2018, 2019, 'vizag']\n",
      "['gitam', 1234, 2018, 2019, 'vizag']\n"
     ]
    }
   ],
   "source": [
    "li=['gitam',1582,2018,2019,'vizag']\n",
    "print(li)\n",
    "li[1]=1234   # update the list at index 1\n",
    "print(li)"
   ]
  },
  {
   "cell_type": "code",
   "execution_count": 48,
   "metadata": {},
   "outputs": [
    {
     "name": "stdout",
     "output_type": "stream",
     "text": [
      "['gitam', 1234, 2018, 'vizag']\n"
     ]
    }
   ],
   "source": [
    "#delete the list items from the list\n",
    "del li[3]\n",
    "print(li)"
   ]
  },
  {
   "cell_type": "code",
   "execution_count": 56,
   "metadata": {},
   "outputs": [
    {
     "name": "stdout",
     "output_type": "stream",
     "text": [
      "5\n",
      "[1, 2, 3, 4, 5, 1, 2, 3, 4, 5]\n",
      "True\n",
      "1,2,3,4,5,"
     ]
    }
   ],
   "source": [
    "li=[1,2,3,4,5]\n",
    "print(len(li))\n",
    "print(li*2)\n",
    "print(4 in li)\n",
    "#  access the list items from the iterations\n",
    "#i way to define\n",
    "for i in range(len(li)):\n",
    "    print(li[i],end=',')"
   ]
  },
  {
   "cell_type": "code",
   "execution_count": 61,
   "metadata": {},
   "outputs": [
    {
     "name": "stdout",
     "output_type": "stream",
     "text": [
      "25\n",
      "1\n",
      "56\n",
      "51\n"
     ]
    }
   ],
   "source": [
    "# basic list functions\n",
    "li =[1,9,16,25,5]\n",
    "print(max(li))\n",
    "print(min(li))\n",
    "print(sum(li))\n",
    "print(sum(li)//len(li))"
   ]
  },
  {
   "cell_type": "code",
   "execution_count": 14,
   "metadata": {},
   "outputs": [
    {
     "name": "stdout",
     "output_type": "stream",
     "text": [
      "[1, 5, 9, 9, 16, 25, 29, 56]\n",
      "[1, 5, 9, 9, 16, 25, 29]\n"
     ]
    },
    {
     "data": {
      "text/plain": [
       "9"
      ]
     },
     "execution_count": 14,
     "metadata": {},
     "output_type": "execute_result"
    }
   ],
   "source": [
    "# methods of list\n",
    "li=[1,9,16,25,5]\n",
    "li.append(29)\n",
    "li.insert(2,56)\n",
    "li.append(9)\n",
    "li.count(9)\n",
    "li.index(56)\n",
    "li.sort()\n",
    "print(li)\n",
    "li.pop() # it removes the last no.\n",
    "print(li)\n",
    "li.pop(2)"
   ]
  },
  {
   "cell_type": "code",
   "execution_count": 18,
   "metadata": {},
   "outputs": [
    {
     "name": "stdout",
     "output_type": "stream",
     "text": [
      "22\n",
      "45\n"
     ]
    }
   ],
   "source": [
    "# functoin to return the large number from the list\n",
    "def largeNumber(li):\n",
    "    li.sort()\n",
    "    def genericlarge(li,n):\n",
    "        li.sort()\n",
    "        return li[-n]    \n",
    "    print(genericlarge(li,3))\n",
    "    return li[-1]\n",
    "li=[19,1,25,6,45,22]\n",
    "print(largeNumber(li))"
   ]
  },
  {
   "cell_type": "code",
   "execution_count": 20,
   "metadata": {},
   "outputs": [
    {
     "name": "stdout",
     "output_type": "stream",
     "text": [
      "1\n",
      "19\n"
     ]
    }
   ],
   "source": [
    "#function to find least and generic least number\n",
    "def leastNumber(li):\n",
    "    li.sort()\n",
    "    return li[0]\n",
    "def genericLeastNumber(li,n):\n",
    "    li.sort()\n",
    "    return li[n-1]\n",
    "li =[19,1,25,6,9,45,22]\n",
    "print(leastNumber(li))\n",
    "print(genericLeastNumber(li,4))\n"
   ]
  },
  {
   "cell_type": "markdown",
   "metadata": {},
   "source": [
    "### File Handling in python\n",
    "- File - documents which contains some information and rewsides on permanent\n",
    "- differnt type of file --.txt,.pdf,.doc,ppf and etc..\n",
    "- input-- keyboard\n",
    "- output- File system"
   ]
  },
  {
   "cell_type": "code",
   "execution_count": 25,
   "metadata": {},
   "outputs": [
    {
     "name": "stdout",
     "output_type": "stream",
     "text": [
      "file is successfully created and data has inserted\n"
     ]
    }
   ],
   "source": [
    "# function to create file and write some data to the file\n",
    "# mode--w(it creates the file and write to the some data)\n",
    "#  if the file already exists with same name then it will rewrite the data\n",
    "def createFile(filename):\n",
    "    f= open(filename,'w')\n",
    "    for i in range(10):\n",
    "        f.write('this is %d line \\n'%i)\n",
    "    print('file is successfully created and data has inserted')\n",
    "    return\n",
    "createFile('data.txt')"
   ]
  },
  {
   "cell_type": "code",
   "execution_count": 22,
   "metadata": {},
   "outputs": [
    {
     "data": {
      "text/plain": [
       "'C:\\\\Users\\\\cse319'"
      ]
     },
     "execution_count": 22,
     "metadata": {},
     "output_type": "execute_result"
    }
   ],
   "source": [
    "pwd"
   ]
  },
  {
   "cell_type": "code",
   "execution_count": 24,
   "metadata": {},
   "outputs": [],
   "source": [
    "# mode --a "
   ]
  },
  {
   "cell_type": "code",
   "execution_count": 28,
   "metadata": {},
   "outputs": [
    {
     "name": "stdout",
     "output_type": "stream",
     "text": [
      "program completed successfully\n"
     ]
    }
   ],
   "source": [
    "#mode--a ( if the file is not available it creates the file \n",
    "#   -- if the file is already present with some name\n",
    "#  -- append the data at end of the previous line\n",
    "def appendMode(filename):\n",
    "    f=open(filename,'a')\n",
    "    f.write('gitam vizag\\n')\n",
    "    f.write('python proggramming\\n')\n",
    "    print('program completed successfully')\n",
    "    return\n",
    "appendMode('data.txt')"
   ]
  },
  {
   "cell_type": "code",
   "execution_count": 29,
   "metadata": {},
   "outputs": [
    {
     "name": "stdout",
     "output_type": "stream",
     "text": [
      "this is 0 line \n",
      "this is 1 line \n",
      "this is 2 line \n",
      "this is 3 line \n",
      "this is 4 line \n",
      "this is 5 line \n",
      "this is 6 line \n",
      "this is 7 line \n",
      "this is 8 line \n",
      "this is 9 line \n",
      "gitam vizag\n",
      "python proggramming\n",
      "\n"
     ]
    }
   ],
   "source": [
    "# function to read the file\n",
    "def readFileData(filename):\n",
    "    f=open(filename,'r')\n",
    "    if f.mode =='r':\n",
    "        a=f.read()\n",
    "        print(a)\n",
    "    f.close() \n",
    "    return \n",
    "readFileData('data.txt')"
   ]
  },
  {
   "cell_type": "code",
   "execution_count": 32,
   "metadata": {},
   "outputs": [
    {
     "data": {
      "text/plain": [
       "44"
      ]
     },
     "execution_count": 32,
     "metadata": {},
     "output_type": "execute_result"
    }
   ],
   "source": [
    "#word count ---input file\n",
    "def wordcount(filename):\n",
    "    with open(filename,'r') as f:\n",
    "        if f.mode =='r':\n",
    "            a=f.read()\n",
    "            li=a.split()\n",
    "    return len(li)\n",
    "wordcount('data.txt')"
   ]
  },
  {
   "cell_type": "code",
   "execution_count": 33,
   "metadata": {},
   "outputs": [
    {
     "data": {
      "text/plain": [
       "10"
      ]
     },
     "execution_count": 33,
     "metadata": {},
     "output_type": "execute_result"
    }
   ],
   "source": [
    "#  specific word count\n",
    "def specificWordCnt(filename,word):\n",
    "    with open(filename,'r') as f:\n",
    "        if f.mode =='r':\n",
    "            a=f.read()\n",
    "            li =a.split()\n",
    "    return li.count(word)\n",
    "specificWordCnt('data.txt','this')"
   ]
  },
  {
   "cell_type": "code",
   "execution_count": 35,
   "metadata": {},
   "outputs": [
    {
     "data": {
      "text/plain": [
       "192"
      ]
     },
     "execution_count": 35,
     "metadata": {},
     "output_type": "execute_result"
    }
   ],
   "source": [
    "# function to find the character count from the input file\n",
    "def charCount(filename):\n",
    "    with open(filename,'r') as f:\n",
    "        if f.mode=='r':\n",
    "            a=f.read()\n",
    "            li=list(a)\n",
    "        return len(li) \n",
    "charCount('data.txt')"
   ]
  },
  {
   "cell_type": "code",
   "execution_count": 39,
   "metadata": {},
   "outputs": [
    {
     "data": {
      "text/plain": [
       "12"
      ]
     },
     "execution_count": 39,
     "metadata": {},
     "output_type": "execute_result"
    }
   ],
   "source": [
    "# find no of lines or rows in the given input \n",
    "def findLinecount(filename):\n",
    "    with open(filename,'r') as f:\n",
    "        if f.mode=='r':\n",
    "            a=f.read()\n",
    "            li=a.split('\\n')\n",
    "    return len(li)\n",
    "findLinecount('data.txt')"
   ]
  },
  {
   "cell_type": "code",
   "execution_count": null,
   "metadata": {},
   "outputs": [],
   "source": [
    "#function to \n",
    "def caseCount(filename):\n",
    "    cntUpper =0\n",
    "    cntLower= 0\n",
    "    cntdigit =0\n",
    "    with open(filename,'r') as f:\n",
    "        if f.mode =='r':\n",
    "            a=f.read()\n",
    "            li= list(a)\n",
    "    for i in range(len(li)):\n",
    "        if ord(li[i])>=65 and ord(li[i])<=90:\n",
    "            cntUpper +=1\n",
    "        elif ord(li[i])>=97 and ord(li[i])<=122:\n",
    "            cntLower+=1\n",
    "        "
   ]
  },
  {
   "cell_type": "code",
   "execution_count": null,
   "metadata": {},
   "outputs": [],
   "source": []
  },
  {
   "cell_type": "code",
   "execution_count": null,
   "metadata": {},
   "outputs": [],
   "source": []
  }
 ],
 "metadata": {
  "kernelspec": {
   "display_name": "Python 3",
   "language": "python",
   "name": "python3"
  },
  "language_info": {
   "codemirror_mode": {
    "name": "ipython",
    "version": 3
   },
   "file_extension": ".py",
   "mimetype": "text/x-python",
   "name": "python",
   "nbconvert_exporter": "python",
   "pygments_lexer": "ipython3",
   "version": "3.7.3"
  }
 },
 "nbformat": 4,
 "nbformat_minor": 2
}
