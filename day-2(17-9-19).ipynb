{
 "cells": [
  {
   "cell_type": "markdown",
   "metadata": {},
   "source": [
    "## control statements\n",
    " - conditions statements or selection statements\n",
    "   - if-else\n",
    " - iteration statements or loops statements\n",
    "   - while\n",
    "   - for"
   ]
  },
  {
   "cell_type": "code",
   "execution_count": 1,
   "metadata": {},
   "outputs": [
    {
     "name": "stdout",
     "output_type": "stream",
     "text": [
      "2019\n",
      "not leap year\n"
     ]
    }
   ],
   "source": [
    "# check the input is leap yera or not\n",
    "year = int(input(''))\n",
    "if year % 400 ==0 or (year & 100 != 0 and year % 4 ==0):\n",
    "    print('leap year')\n",
    "else:\n",
    "    print('not leap year')"
   ]
  },
  {
   "cell_type": "markdown",
   "metadata": {},
   "source": [
    "### while loop "
   ]
  },
  {
   "cell_type": "code",
   "execution_count": 6,
   "metadata": {},
   "outputs": [
    {
     "name": "stdout",
     "output_type": "stream",
     "text": [
      "enter a number: 20\n",
      "1 2 3 4 5 6 7 8 9 10 11 12 13 14 15 16 17 18 19 20 "
     ]
    }
   ],
   "source": [
    "# print numbers from 1 to n\n",
    "# input :10\n",
    "# outpur : 1234.....10\n",
    "n = int(input('enter a number: '))\n",
    "i=1\n",
    "while i<=n:\n",
    "    print(i,end =\" \")\n",
    "    i=i+1"
   ]
  },
  {
   "cell_type": "code",
   "execution_count": 9,
   "metadata": {},
   "outputs": [
    {
     "name": "stdout",
     "output_type": "stream",
     "text": [
      "enter a number10\n",
      "2 4 6 8 10 "
     ]
    }
   ],
   "source": [
    "# read a numeber as input\n",
    "# output as only even numbers sum from 1 to n\n",
    "\n",
    "# input :10\n",
    "# output :30(2+4+6+8+10)\n",
    "p=int(input('enter a number'))\n",
    "i=2\n",
    "while i<=p:\n",
    "    print(i,end=' ')\n",
    "    i=i+2"
   ]
  },
  {
   "cell_type": "code",
   "execution_count": 13,
   "metadata": {},
   "outputs": [
    {
     "name": "stdout",
     "output_type": "stream",
     "text": [
      "enter a number10\n",
      "30\n"
     ]
    }
   ],
   "source": [
    "p=int(input('enter a number'))\n",
    "i=1\n",
    "s=0\n",
    "while i<=p:\n",
    "    if i%2 ==0:\n",
    "        s=s+i\n",
    "    i=i+1\n",
    "print(s)\n"
   ]
  },
  {
   "cell_type": "code",
   "execution_count": 14,
   "metadata": {},
   "outputs": [
    {
     "name": "stdout",
     "output_type": "stream",
     "text": [
      " 123\n",
      "321"
     ]
    }
   ],
   "source": [
    "#read a number as input\n",
    "#output has be digits of the number\n",
    "\n",
    "#input:123\n",
    "#output:321\n",
    "\n",
    "n=int(input(' '))\n",
    "while n!=0:\n",
    "    print(n%10,end='')\n",
    "    n=n//10"
   ]
  },
  {
   "cell_type": "markdown",
   "metadata": {},
   "source": [
    "### functional programming\n",
    "\n",
    "- simple\n",
    "- easy understand\n",
    "- better reuseability\n",
    "- lengthy program will be divided into sub programs\n"
   ]
  },
  {
   "cell_type": "code",
   "execution_count": null,
   "metadata": {},
   "outputs": [],
   "source": [
    "def nameofthefunctiom(<parameters>):\n",
    "    statements\n",
    "    return"
   ]
  },
  {
   "cell_type": "code",
   "execution_count": 16,
   "metadata": {},
   "outputs": [
    {
     "data": {
      "text/plain": [
       "6"
      ]
     },
     "execution_count": 16,
     "metadata": {},
     "output_type": "execute_result"
    }
   ],
   "source": [
    "#read a number\n",
    "#print the even digit sum from the number\n",
    "\n",
    "#input: 1234\n",
    "#output: 6(2+4)\n",
    "\n",
    "def evenDigitSum(n):\n",
    "    s=0\n",
    "    while n!=0:\n",
    "        r=n%10\n",
    "        if r%2==0:\n",
    "            s=s+r\n",
    "        n=n//10\n",
    "    return s\n",
    "evenDigitSum(1234)"
   ]
  },
  {
   "cell_type": "code",
   "execution_count": 18,
   "metadata": {},
   "outputs": [
    {
     "data": {
      "text/plain": [
       "9"
      ]
     },
     "execution_count": 18,
     "metadata": {},
     "output_type": "execute_result"
    }
   ],
   "source": [
    "# input :19595\n",
    "#output:9 (large digit of thr given number)\n",
    "#functional programming\n",
    "\n",
    "def largeDigit(n):\n",
    "    large =0\n",
    "    while n!=0:\n",
    "        r=n%10\n",
    "        if large <r:\n",
    "            large=r\n",
    "        n =n//10\n",
    "    return large \n",
    "largeDigit(19535)"
   ]
  },
  {
   "cell_type": "code",
   "execution_count": 29,
   "metadata": {},
   "outputs": [
    {
     "name": "stdout",
     "output_type": "stream",
     "text": [
      "yes\n",
      "no\n"
     ]
    }
   ],
   "source": [
    "#read a number as input\n",
    "#output yes or no\n",
    "\n",
    "# input :145\n",
    "#output:yes\n",
    "\n",
    "#input:123\n",
    "#output:no\n",
    "\n",
    "# individual digit factorial sum is same as input number\n",
    "\n",
    "def factorial(n):\n",
    "    fact =1\n",
    "    i=1\n",
    "    while i<=n:\n",
    "        fact =fact * i\n",
    "        i=i+1\n",
    "    return fact\n",
    "    \n",
    "def digitFactSum(n):\n",
    "    s=0\n",
    "    buffer = n\n",
    "    while n!=0:\n",
    "        r=n%10\n",
    "        s+=factorial(r)\n",
    "        n=n//10\n",
    "    if buffer ==s:\n",
    "        return \"yes\"\n",
    "    else:\n",
    "        return \"no\"\n",
    "    return\n",
    "\n",
    "print(digitFactSum(145)) #yes\n",
    "print(digitFactSum(123)) #no"
   ]
  },
  {
   "cell_type": "code",
   "execution_count": 36,
   "metadata": {},
   "outputs": [
    {
     "name": "stdout",
     "output_type": "stream",
     "text": [
      "palindrome\n",
      "not a palindrome\n"
     ]
    }
   ],
   "source": [
    "# read a number as input\n",
    "#output as palindrom or  not palindrom\n",
    "#palidrome --A number after reversing is same as the original number\n",
    "\n",
    "\n",
    "#input :121\n",
    "#output:palindrome\n",
    "\n",
    "#input:123\n",
    "#output:not a palindrome\n",
    "\n",
    "def isPalindrome(n):\n",
    "    rev= 0\n",
    "    buffer =n\n",
    "    while n!=0:\n",
    "        rev =rev*10+(n%10)\n",
    "        n=n//10\n",
    "    if buffer ==rev:\n",
    "        return \"palindrome\"\n",
    "    return \"not a palindrome\"\n",
    "print(isPalindrome(121)) #palindrome\n",
    "print(isPalindrome(123)) #not a palindrom"
   ]
  },
  {
   "cell_type": "code",
   "execution_count": 40,
   "metadata": {},
   "outputs": [
    {
     "name": "stdout",
     "output_type": "stream",
     "text": [
      "11 12 13 14 15 16 17 18 19 20 21 22 23 24 25 "
     ]
    }
   ],
   "source": [
    "# Function to print the number btw two limits\n",
    "#input:11 25\n",
    "#output: 11 12 13 14 .......25\n",
    "def printseries(lb,ub):\n",
    "    for x in range(lb,ub+1):\n",
    "        print(x,end=' ')\n",
    "    return\n",
    "printseries(11,25)"
   ]
  },
  {
   "cell_type": "code",
   "execution_count": 44,
   "metadata": {},
   "outputs": [
    {
     "name": "stdout",
     "output_type": "stream",
     "text": [
      "500 504 508 512 516 520 "
     ]
    }
   ],
   "source": [
    "#function to print the alternate numbers\n",
    "#[500,520]--500,502 504 506 508 510 ....520\n",
    "#[100,140]--100 104 108 112 116...140\n",
    "\n",
    "def alternateNumbers(lb,ub):\n",
    "    for x in range(lb,ub+1,4):\n",
    "        print(x,end=' ')\n",
    "    return\n",
    "alternateNumbers(500,520)"
   ]
  },
  {
   "cell_type": "markdown",
   "metadata": {},
   "source": []
  },
  {
   "cell_type": "raw",
   "metadata": {},
   "source": []
  },
  {
   "cell_type": "code",
   "execution_count": null,
   "metadata": {},
   "outputs": [],
   "source": []
  },
  {
   "cell_type": "code",
   "execution_count": null,
   "metadata": {},
   "outputs": [],
   "source": []
  },
  {
   "cell_type": "code",
   "execution_count": null,
   "metadata": {},
   "outputs": [],
   "source": []
  }
 ],
 "metadata": {
  "kernelspec": {
   "display_name": "Python 3",
   "language": "python",
   "name": "python3"
  },
  "language_info": {
   "codemirror_mode": {
    "name": "ipython",
    "version": 3
   },
   "file_extension": ".py",
   "mimetype": "text/x-python",
   "name": "python",
   "nbconvert_exporter": "python",
   "pygments_lexer": "ipython3",
   "version": "3.7.3"
  }
 },
 "nbformat": 4,
 "nbformat_minor": 2
}
